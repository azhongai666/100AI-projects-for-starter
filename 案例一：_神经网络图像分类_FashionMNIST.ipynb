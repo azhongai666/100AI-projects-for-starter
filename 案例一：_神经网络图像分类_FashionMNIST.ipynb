{
  "cells": [
    {
      "cell_type": "markdown",
      "id": "00eb9057",
      "metadata": {
        "id": "00eb9057"
      },
      "source": [
        "## 🔥 神经网络图像分类完整教程 - FashionMNIST篇\n",
        "\n",
        "> 姐妹们！今天带来超详细的PyTorch入门教程，手把手教你用神经网络识别服装图片！零基础也能看懂～ ✨\n",
        "\n"
      ]
    },
    {
      "cell_type": "code",
      "source": [],
      "metadata": {
        "id": "WQKGSHiSm7SW"
      },
      "id": "WQKGSHiSm7SW",
      "execution_count": null,
      "outputs": []
    },
    {
      "cell_type": "markdown",
      "source": [
        "## 📚 第一步：导入必要的库"
      ],
      "metadata": {
        "id": "beBcQKw4m71a"
      },
      "id": "beBcQKw4m71a"
    },
    {
      "cell_type": "code",
      "execution_count": 1,
      "id": "c5ad0d1b",
      "metadata": {
        "id": "c5ad0d1b"
      },
      "outputs": [],
      "source": [
        "import torch\n",
        "from torch import nn\n",
        "from torch.utils.data import DataLoader\n",
        "from torchvision import datasets\n",
        "from torchvision.transforms import ToTensor"
      ]
    },
    {
      "cell_type": "markdown",
      "id": "6500afb3",
      "metadata": {
        "id": "6500afb3"
      },
      "source": [
        "**💡 小贴士：这些库都是干什么用的？**\n",
        "- `torch`: PyTorch的核心库，就像做菜的锅一样必不可少\n",
        "- `nn`: 神经网络模块，里面有各种现成的网络层\n",
        "- `DataLoader`: 数据加载器，帮我们批量处理数据\n",
        "- `datasets`: 内置数据集，FashionMNIST就在里面\n",
        "- `ToTensor`: 把图片转换成PyTorch能理解的格式\n",
        "\n",
        "---\n",
        "\n",
        "## 🎯 第二步：数据处理Pipeline\n",
        "\n",
        "### 📥 准备数据集"
      ]
    },
    {
      "cell_type": "code",
      "execution_count": 2,
      "id": "c2c180d5",
      "metadata": {
        "colab": {
          "base_uri": "https://localhost:8080/"
        },
        "id": "c2c180d5",
        "outputId": "412b0163-b1ac-43b1-a1da-04d3a71db772"
      },
      "outputs": [
        {
          "output_type": "stream",
          "name": "stderr",
          "text": [
            "100%|██████████| 26.4M/26.4M [00:02<00:00, 12.3MB/s]\n",
            "100%|██████████| 29.5k/29.5k [00:00<00:00, 208kB/s]\n",
            "100%|██████████| 4.42M/4.42M [00:01<00:00, 3.93MB/s]\n",
            "100%|██████████| 5.15k/5.15k [00:00<00:00, 10.4MB/s]\n"
          ]
        },
        {
          "output_type": "execute_result",
          "data": {
            "text/plain": [
              "(60000, 10000)"
            ]
          },
          "metadata": {},
          "execution_count": 2
        }
      ],
      "source": [
        "# Download training data from open datasets.\n",
        "training_data = datasets.FashionMNIST(\n",
        "    root=\"data\",\n",
        "    train=True,\n",
        "    download=True,\n",
        "    transform=ToTensor(),\n",
        ")\n",
        "\n",
        "# Download test data from open datasets.\n",
        "test_data = datasets.FashionMNIST(\n",
        "    root=\"data\",\n",
        "    train=False,\n",
        "    download=True,\n",
        "    transform=ToTensor(),\n",
        ")\n",
        "\n",
        "len(training_data), len(test_data)"
      ]
    },
    {
      "cell_type": "markdown",
      "id": "59a98f66",
      "metadata": {
        "id": "59a98f66"
      },
      "source": [
        "**🌟 这段代码在做什么？**\n",
        "- FashionMNIST是一个服装图片数据集，包含10种不同的服装类型\n",
        "- `train=True`：下载训练集（60000张图片）\n",
        "- `train=False`：下载测试集（10000张图片）\n",
        "- `download=True`：如果本地没有就自动下载\n",
        "- `transform=ToTensor()`：把PIL图片转换成张量格式"
      ]
    },
    {
      "cell_type": "code",
      "execution_count": 3,
      "id": "e817a180",
      "metadata": {
        "colab": {
          "base_uri": "https://localhost:8080/",
          "height": 1000
        },
        "id": "e817a180",
        "outputId": "ffcc25f1-c667-4e5a-c21f-588edecb36a0"
      },
      "outputs": [
        {
          "output_type": "display_data",
          "data": {
            "text/plain": [
              "<Figure size 640x480 with 1 Axes>"
            ],
            "image/png": "[encoded data removed]"
          },
          "metadata": {}
        },
        {
          "output_type": "execute_result",
          "data": {
            "text/plain": [
              "tensor([[[0.0000, 0.0000, 0.0000, 0.0000, 0.0000, 0.0000, 0.0000, 0.0000,\n",
              "          0.0000, 0.0000, 0.0000, 0.0000, 0.0000, 0.0000, 0.0000, 0.0000,\n",
              "          0.0000, 0.0000, 0.0000, 0.0000, 0.0000, 0.0000, 0.0000, 0.0000,\n",
              "          0.0000, 0.0000, 0.0000, 0.0000],\n",
              "         [0.0000, 0.0000, 0.0000, 0.0000, 0.0000, 0.0000, 0.0000, 0.0000,\n",
              "          0.0000, 0.0000, 0.0000, 0.0000, 0.0000, 0.0000, 0.0000, 0.0000,\n",
              "          0.0000, 0.0000, 0.0000, 0.0000, 0.0000, 0.0000, 0.0000, 0.0000,\n",
              "          0.0000, 0.0000, 0.0000, 0.0000],\n",
              "         [0.0000, 0.0000, 0.0000, 0.0000, 0.0000, 0.0000, 0.0000, 0.0000,\n",
              "          0.0000, 0.0000, 0.0000, 0.0000, 0.0000, 0.0000, 0.0000, 0.0000,\n",
              "          0.0000, 0.0000, 0.0000, 0.0000, 0.0000, 0.0000, 0.0000, 0.0000,\n",
              "          0.0000, 0.0000, 0.0000, 0.0000],\n",
              "         [0.0000, 0.0000, 0.0000, 0.0000, 0.0000, 0.0000, 0.0000, 0.0000,\n",
              "          0.0000, 0.0000, 0.0000, 0.0000, 0.0039, 0.0000, 0.0000, 0.0510,\n",
              "          0.2863, 0.0000, 0.0000, 0.0039, 0.0157, 0.0000, 0.0000, 0.0000,\n",
              "          0.0000, 0.0039, 0.0039, 0.0000],\n",
              "         [0.0000, 0.0000, 0.0000, 0.0000, 0.0000, 0.0000, 0.0000, 0.0000,\n",
              "          0.0000, 0.0000, 0.0000, 0.0000, 0.0118, 0.0000, 0.1412, 0.5333,\n",
              "          0.4980, 0.2431, 0.2118, 0.0000, 0.0000, 0.0000, 0.0039, 0.0118,\n",
              "          0.0157, 0.0000, 0.0000, 0.0118],\n",
              "         [0.0000, 0.0000, 0.0000, 0.0000, 0.0000, 0.0000, 0.0000, 0.0000,\n",
              "          0.0000, 0.0000, 0.0000, 0.0000, 0.0235, 0.0000, 0.4000, 0.8000,\n",
              "          0.6902, 0.5255, 0.5647, 0.4824, 0.0902, 0.0000, 0.0000, 0.0000,\n",
              "          0.0000, 0.0471, 0.0392, 0.0000],\n",
              "         [0.0000, 0.0000, 0.0000, 0.0000, 0.0000, 0.0000, 0.0000, 0.0000,\n",
              "          0.0000, 0.0000, 0.0000, 0.0000, 0.0000, 0.0000, 0.6078, 0.9255,\n",
              "          0.8118, 0.6980, 0.4196, 0.6118, 0.6314, 0.4275, 0.2510, 0.0902,\n",
              "          0.3020, 0.5098, 0.2824, 0.0588],\n",
              "         [0.0000, 0.0000, 0.0000, 0.0000, 0.0000, 0.0000, 0.0000, 0.0000,\n",
              "          0.0000, 0.0000, 0.0000, 0.0039, 0.0000, 0.2706, 0.8118, 0.8745,\n",
              "          0.8549, 0.8471, 0.8471, 0.6392, 0.4980, 0.4745, 0.4784, 0.5725,\n",
              "          0.5529, 0.3451, 0.6745, 0.2588],\n",
              "         [0.0000, 0.0000, 0.0000, 0.0000, 0.0000, 0.0000, 0.0000, 0.0000,\n",
              "          0.0000, 0.0039, 0.0039, 0.0039, 0.0000, 0.7843, 0.9098, 0.9098,\n",
              "          0.9137, 0.8980, 0.8745, 0.8745, 0.8431, 0.8353, 0.6431, 0.4980,\n",
              "          0.4824, 0.7686, 0.8980, 0.0000],\n",
              "         [0.0000, 0.0000, 0.0000, 0.0000, 0.0000, 0.0000, 0.0000, 0.0000,\n",
              "          0.0000, 0.0000, 0.0000, 0.0000, 0.0000, 0.7176, 0.8824, 0.8471,\n",
              "          0.8745, 0.8941, 0.9216, 0.8902, 0.8784, 0.8706, 0.8784, 0.8667,\n",
              "          0.8745, 0.9608, 0.6784, 0.0000],\n",
              "         [0.0000, 0.0000, 0.0000, 0.0000, 0.0000, 0.0000, 0.0000, 0.0000,\n",
              "          0.0000, 0.0000, 0.0000, 0.0000, 0.0000, 0.7569, 0.8941, 0.8549,\n",
              "          0.8353, 0.7765, 0.7059, 0.8314, 0.8235, 0.8275, 0.8353, 0.8745,\n",
              "          0.8627, 0.9529, 0.7922, 0.0000],\n",
              "         [0.0000, 0.0000, 0.0000, 0.0000, 0.0000, 0.0000, 0.0000, 0.0000,\n",
              "          0.0000, 0.0039, 0.0118, 0.0000, 0.0471, 0.8588, 0.8627, 0.8314,\n",
              "          0.8549, 0.7529, 0.6627, 0.8902, 0.8157, 0.8549, 0.8784, 0.8314,\n",
              "          0.8863, 0.7725, 0.8196, 0.2039],\n",
              "         [0.0000, 0.0000, 0.0000, 0.0000, 0.0000, 0.0000, 0.0000, 0.0000,\n",
              "          0.0000, 0.0000, 0.0235, 0.0000, 0.3882, 0.9569, 0.8706, 0.8627,\n",
              "          0.8549, 0.7961, 0.7765, 0.8667, 0.8431, 0.8353, 0.8706, 0.8627,\n",
              "          0.9608, 0.4667, 0.6549, 0.2196],\n",
              "         [0.0000, 0.0000, 0.0000, 0.0000, 0.0000, 0.0000, 0.0000, 0.0000,\n",
              "          0.0000, 0.0157, 0.0000, 0.0000, 0.2157, 0.9255, 0.8941, 0.9020,\n",
              "          0.8941, 0.9412, 0.9098, 0.8353, 0.8549, 0.8745, 0.9176, 0.8510,\n",
              "          0.8510, 0.8196, 0.3608, 0.0000],\n",
              "         [0.0000, 0.0000, 0.0039, 0.0157, 0.0235, 0.0275, 0.0078, 0.0000,\n",
              "          0.0000, 0.0000, 0.0000, 0.0000, 0.9294, 0.8863, 0.8510, 0.8745,\n",
              "          0.8706, 0.8588, 0.8706, 0.8667, 0.8471, 0.8745, 0.8980, 0.8431,\n",
              "          0.8549, 1.0000, 0.3020, 0.0000],\n",
              "         [0.0000, 0.0118, 0.0000, 0.0000, 0.0000, 0.0000, 0.0000, 0.0000,\n",
              "          0.0000, 0.2431, 0.5686, 0.8000, 0.8941, 0.8118, 0.8353, 0.8667,\n",
              "          0.8549, 0.8157, 0.8275, 0.8549, 0.8784, 0.8745, 0.8588, 0.8431,\n",
              "          0.8784, 0.9569, 0.6235, 0.0000],\n",
              "         [0.0000, 0.0000, 0.0000, 0.0000, 0.0706, 0.1725, 0.3216, 0.4196,\n",
              "          0.7412, 0.8941, 0.8627, 0.8706, 0.8510, 0.8863, 0.7843, 0.8039,\n",
              "          0.8275, 0.9020, 0.8784, 0.9176, 0.6902, 0.7373, 0.9804, 0.9725,\n",
              "          0.9137, 0.9333, 0.8431, 0.0000],\n",
              "         [0.0000, 0.2235, 0.7333, 0.8157, 0.8784, 0.8667, 0.8784, 0.8157,\n",
              "          0.8000, 0.8392, 0.8157, 0.8196, 0.7843, 0.6235, 0.9608, 0.7569,\n",
              "          0.8078, 0.8745, 1.0000, 1.0000, 0.8667, 0.9176, 0.8667, 0.8275,\n",
              "          0.8627, 0.9098, 0.9647, 0.0000],\n",
              "         [0.0118, 0.7922, 0.8941, 0.8784, 0.8667, 0.8275, 0.8275, 0.8392,\n",
              "          0.8039, 0.8039, 0.8039, 0.8627, 0.9412, 0.3137, 0.5882, 1.0000,\n",
              "          0.8980, 0.8667, 0.7373, 0.6039, 0.7490, 0.8235, 0.8000, 0.8196,\n",
              "          0.8706, 0.8941, 0.8824, 0.0000],\n",
              "         [0.3843, 0.9137, 0.7765, 0.8235, 0.8706, 0.8980, 0.8980, 0.9176,\n",
              "          0.9765, 0.8627, 0.7608, 0.8431, 0.8510, 0.9451, 0.2549, 0.2863,\n",
              "          0.4157, 0.4588, 0.6588, 0.8588, 0.8667, 0.8431, 0.8510, 0.8745,\n",
              "          0.8745, 0.8784, 0.8980, 0.1137],\n",
              "         [0.2941, 0.8000, 0.8314, 0.8000, 0.7569, 0.8039, 0.8275, 0.8824,\n",
              "          0.8471, 0.7255, 0.7725, 0.8078, 0.7765, 0.8353, 0.9412, 0.7647,\n",
              "          0.8902, 0.9608, 0.9373, 0.8745, 0.8549, 0.8314, 0.8196, 0.8706,\n",
              "          0.8627, 0.8667, 0.9020, 0.2627],\n",
              "         [0.1882, 0.7961, 0.7176, 0.7608, 0.8353, 0.7725, 0.7255, 0.7451,\n",
              "          0.7608, 0.7529, 0.7922, 0.8392, 0.8588, 0.8667, 0.8627, 0.9255,\n",
              "          0.8824, 0.8471, 0.7804, 0.8078, 0.7294, 0.7098, 0.6941, 0.6745,\n",
              "          0.7098, 0.8039, 0.8078, 0.4510],\n",
              "         [0.0000, 0.4784, 0.8588, 0.7569, 0.7020, 0.6706, 0.7176, 0.7686,\n",
              "          0.8000, 0.8235, 0.8353, 0.8118, 0.8275, 0.8235, 0.7843, 0.7686,\n",
              "          0.7608, 0.7490, 0.7647, 0.7490, 0.7765, 0.7529, 0.6902, 0.6118,\n",
              "          0.6549, 0.6941, 0.8235, 0.3608],\n",
              "         [0.0000, 0.0000, 0.2902, 0.7412, 0.8314, 0.7490, 0.6863, 0.6745,\n",
              "          0.6863, 0.7098, 0.7255, 0.7373, 0.7412, 0.7373, 0.7569, 0.7765,\n",
              "          0.8000, 0.8196, 0.8235, 0.8235, 0.8275, 0.7373, 0.7373, 0.7608,\n",
              "          0.7529, 0.8471, 0.6667, 0.0000],\n",
              "         [0.0078, 0.0000, 0.0000, 0.0000, 0.2588, 0.7843, 0.8706, 0.9294,\n",
              "          0.9373, 0.9490, 0.9647, 0.9529, 0.9569, 0.8667, 0.8627, 0.7569,\n",
              "          0.7490, 0.7020, 0.7137, 0.7137, 0.7098, 0.6902, 0.6510, 0.6588,\n",
              "          0.3882, 0.2275, 0.0000, 0.0000],\n",
              "         [0.0000, 0.0000, 0.0000, 0.0000, 0.0000, 0.0000, 0.0000, 0.1569,\n",
              "          0.2392, 0.1725, 0.2824, 0.1608, 0.1373, 0.0000, 0.0000, 0.0000,\n",
              "          0.0000, 0.0000, 0.0000, 0.0000, 0.0000, 0.0000, 0.0000, 0.0000,\n",
              "          0.0000, 0.0000, 0.0000, 0.0000],\n",
              "         [0.0000, 0.0000, 0.0000, 0.0000, 0.0000, 0.0000, 0.0000, 0.0000,\n",
              "          0.0000, 0.0000, 0.0000, 0.0000, 0.0000, 0.0000, 0.0000, 0.0000,\n",
              "          0.0000, 0.0000, 0.0000, 0.0000, 0.0000, 0.0000, 0.0000, 0.0000,\n",
              "          0.0000, 0.0000, 0.0000, 0.0000],\n",
              "         [0.0000, 0.0000, 0.0000, 0.0000, 0.0000, 0.0000, 0.0000, 0.0000,\n",
              "          0.0000, 0.0000, 0.0000, 0.0000, 0.0000, 0.0000, 0.0000, 0.0000,\n",
              "          0.0000, 0.0000, 0.0000, 0.0000, 0.0000, 0.0000, 0.0000, 0.0000,\n",
              "          0.0000, 0.0000, 0.0000, 0.0000]]])"
            ]
          },
          "metadata": {},
          "execution_count": 3
        }
      ],
      "source": [
        "training_data[0][0].shape, training_data[0][1]\n",
        "\n",
        "# 可视化单个样本\n",
        "import matplotlib.pyplot as plt\n",
        "\n",
        "plt.imshow(training_data[0][0].squeeze(), cmap=\"gray\")\n",
        "plt.show()\n",
        "\n",
        "training_data[0][0]"
      ]
    },
    {
      "cell_type": "markdown",
      "id": "8ded5f7b",
      "metadata": {
        "id": "8ded5f7b"
      },
      "source": [
        "**📸 看看我们的数据长什么样**\n",
        "- `training_data[0][0]`：第一张图片的像素数据\n",
        "- `training_data[0][1]`：第一张图片的标签（0-9代表不同服装）\n",
        "- `squeeze()`：去掉多余的维度\n",
        "- `cmap=\"gray\"`：用灰度显示图片\n",
        "\n",
        "### 🔄 准备数据加载器"
      ]
    },
    {
      "cell_type": "code",
      "execution_count": 4,
      "id": "81cf819a",
      "metadata": {
        "id": "81cf819a"
      },
      "outputs": [],
      "source": [
        "batch_size = 64\n",
        "\n",
        "# Create data loaders.\n",
        "train_dataloader = DataLoader(training_data, batch_size=batch_size)\n",
        "test_dataloader = DataLoader(test_data, batch_size=batch_size)"
      ]
    },
    {
      "cell_type": "markdown",
      "id": "3a083c05",
      "metadata": {
        "id": "3a083c05"
      },
      "source": [
        "**💭 为什么要用DataLoader？**\n",
        "- 一次处理64张图片，而不是一张一张来\n",
        "- 就像批量洗衣服一样，效率更高！\n",
        "- 自动打乱数据顺序，让训练更有效\n",
        "\n",
        "### 🔍 检查数据格式"
      ]
    },
    {
      "cell_type": "code",
      "execution_count": 5,
      "id": "ed054f8a",
      "metadata": {
        "colab": {
          "base_uri": "https://localhost:8080/"
        },
        "id": "ed054f8a",
        "outputId": "4ba94e73-a723-4421-9a04-ee589d5801a6"
      },
      "outputs": [
        {
          "output_type": "stream",
          "name": "stdout",
          "text": [
            "Shape of X [N, C, H, W]: torch.Size([64, 1, 28, 28])\n",
            "Shape of y: torch.Size([64]) torch.int64\n"
          ]
        },
        {
          "output_type": "execute_result",
          "data": {
            "text/plain": [
              "tensor([9, 2, 1, 1, 6, 1, 4, 6, 5, 7, 4, 5, 7, 3, 4, 1, 2, 4, 8, 0, 2, 5, 7, 9,\n",
              "        1, 4, 6, 0, 9, 3, 8, 8, 3, 3, 8, 0, 7, 5, 7, 9, 6, 1, 3, 7, 6, 7, 2, 1,\n",
              "        2, 2, 4, 4, 5, 8, 2, 2, 8, 4, 8, 0, 7, 7, 8, 5])"
            ]
          },
          "metadata": {},
          "execution_count": 5
        }
      ],
      "source": [
        "for X, y in test_dataloader:\n",
        "    print(f\"Shape of X [N, C, H, W]: {X.shape}\")\n",
        "    print(f\"Shape of y: {y.shape} {y.dtype}\")\n",
        "    break\n",
        "\n",
        "y"
      ]
    },
    {
      "cell_type": "markdown",
      "id": "bd88f1e6",
      "metadata": {
        "id": "bd88f1e6"
      },
      "source": [
        "**📊 数据维度解析**\n",
        "- `X.shape`: [64, 1, 28, 28]\n",
        "  - 64：批次大小（一次处理64张图）\n",
        "  - 1：通道数（灰度图只有1个通道）\n",
        "  - 28×28：图片尺寸\n",
        "- `y.shape`: [64] 表示64个标签\n",
        "\n",
        "---\n",
        "\n",
        "## 💻 第三步：确认设备情况"
      ]
    },
    {
      "cell_type": "code",
      "execution_count": 6,
      "id": "d7f1cdcc",
      "metadata": {
        "colab": {
          "base_uri": "https://localhost:8080/"
        },
        "id": "d7f1cdcc",
        "outputId": "e0eabe66-1e31-480e-f8f3-0f0fd8443377"
      },
      "outputs": [
        {
          "output_type": "stream",
          "name": "stdout",
          "text": [
            "Using cpu device\n"
          ]
        }
      ],
      "source": [
        "# Get cpu, gpu or mps device for training.\n",
        "device = (\n",
        "    \"cuda\"\n",
        "    if torch.cuda.is_available()\n",
        "    else \"mps\"\n",
        "    if torch.backends.mps.is_available()\n",
        "    else \"cpu\"\n",
        ")\n",
        "print(f\"Using {device} device\")"
      ]
    },
    {
      "cell_type": "markdown",
      "id": "faee7849",
      "metadata": {
        "id": "faee7849"
      },
      "source": [
        "**⚡ 设备选择优先级**\n",
        "1. CUDA (NVIDIA显卡) - 最快 🚀\n",
        "2. MPS (Apple芯片) - 还不错 🍎\n",
        "3. CPU - 最慢但最稳定 🐌\n",
        "\n",
        "---\n",
        "\n",
        "## 🧠 第四步：构建神经网络模型"
      ]
    },
    {
      "cell_type": "code",
      "execution_count": 7,
      "id": "357ff8e7",
      "metadata": {
        "colab": {
          "base_uri": "https://localhost:8080/"
        },
        "id": "357ff8e7",
        "outputId": "1e1b70e3-62b5-4da4-bfef-9a1aef075254"
      },
      "outputs": [
        {
          "output_type": "stream",
          "name": "stdout",
          "text": [
            "torch.Size([64, 10])\n",
            "NeuralNetwork(\n",
            "  (flatten): Flatten(start_dim=1, end_dim=-1)\n",
            "  (linear_relu_stack): Sequential(\n",
            "    (0): Linear(in_features=784, out_features=512, bias=True)\n",
            "    (1): ReLU()\n",
            "    (2): Linear(in_features=512, out_features=512, bias=True)\n",
            "    (3): ReLU()\n",
            "    (4): Linear(in_features=512, out_features=10, bias=True)\n",
            "  )\n",
            ")\n"
          ]
        }
      ],
      "source": [
        "# Define model\n",
        "class NeuralNetwork(nn.Module):\n",
        "    def __init__(self):\n",
        "        super().__init__()\n",
        "        self.flatten = nn.Flatten()\n",
        "        self.linear_relu_stack = nn.Sequential(\n",
        "            nn.Linear(28*28, 512),\n",
        "            nn.ReLU(),\n",
        "            nn.Linear(512, 512),\n",
        "            nn.ReLU(),\n",
        "            nn.Linear(512, 10)\n",
        "        )\n",
        "\n",
        "    def forward(self, x):\n",
        "        x = self.flatten(x)\n",
        "        logits = self.linear_relu_stack(x)\n",
        "        return logits\n",
        "\n",
        "model = NeuralNetwork().to(device)\n",
        "print(model(X.to(device)).shape)\n",
        "print(model)"
      ]
    },
    {
      "cell_type": "markdown",
      "id": "274002dc",
      "metadata": {
        "id": "274002dc"
      },
      "source": [
        "**🏗️ 网络结构详解**\n",
        "- `nn.Flatten()`: 把28×28的图片拉平成784个数字\n",
        "- `nn.Linear(784, 512)`: 全连接层，784个输入→512个输出\n",
        "- `nn.ReLU()`: 激活函数，让网络能学习复杂模式\n",
        "- `nn.Linear(512, 512)`: 第二个全连接层\n",
        "- `nn.Linear(512, 10)`: 输出层，10个类别对应10种服装\n",
        "\n",
        "**💡 为什么是这样的结构？**\n",
        "- 就像一个漏斗：784→512→512→10\n",
        "- 逐渐压缩信息，最后得到10个分类的概率\n",
        "\n",
        "---\n",
        "\n",
        "## 📐 第五步：定义损失函数和优化器"
      ]
    },
    {
      "cell_type": "code",
      "execution_count": 8,
      "id": "38464ef7",
      "metadata": {
        "id": "38464ef7"
      },
      "outputs": [],
      "source": [
        "loss_fn = nn.CrossEntropyLoss()\n",
        "optimizer = torch.optim.SGD(model.parameters(), lr=1e-3)"
      ]
    },
    {
      "cell_type": "markdown",
      "id": "8dcf3c5c",
      "metadata": {
        "id": "8dcf3c5c"
      },
      "source": [
        "**🎯 核心组件解释**\n",
        "- `CrossEntropyLoss`: 多分类问题的标准损失函数\n",
        "- `SGD`: 随机梯度下降优化器，学习率设为0.001\n",
        "- 就像GPS导航一样，告诉模型朝哪个方向调整参数\n",
        "\n",
        "---\n",
        "\n",
        "## 🏋️ 第六步：训练和评估函数\n",
        "\n"
      ]
    },
    {
      "cell_type": "code",
      "source": [],
      "metadata": {
        "id": "3SspS9yInEoi"
      },
      "id": "3SspS9yInEoi",
      "execution_count": null,
      "outputs": []
    },
    {
      "cell_type": "code",
      "execution_count": 9,
      "id": "80043538",
      "metadata": {
        "id": "80043538"
      },
      "outputs": [],
      "source": [
        "def train(dataloader, model, loss_fn, optimizer):\n",
        "    size = len(dataloader.dataset)\n",
        "    model.train()\n",
        "    for batch, (X, y) in enumerate(dataloader):\n",
        "        X, y = X.to(device), y.to(device)\n",
        "\n",
        "        # Compute prediction error\n",
        "        pred = model(X)\n",
        "        loss = loss_fn(pred, y)\n",
        "\n",
        "        # Backpropagation\n",
        "        loss.backward()\n",
        "        optimizer.step()\n",
        "        optimizer.zero_grad()\n",
        "\n",
        "        if batch % 100 == 0:\n",
        "            loss, current = loss.item(), (batch + 1) * len(X)\n",
        "            print(f\"loss: {loss:>7f}  [{current:>5d}/{size:>5d}]\")"
      ]
    },
    {
      "cell_type": "markdown",
      "id": "0485f7ae",
      "metadata": {
        "id": "0485f7ae"
      },
      "source": [
        "**🔄 训练流程详解**\n",
        "1. `model.train()`: 告诉模型现在要训练了\n",
        "2. 前向传播：输入图片→得到预测结果\n",
        "3. 计算损失：预测结果和真实标签的差距\n",
        "4. 反向传播：`loss.backward()`计算梯度\n",
        "5. 更新参数：`optimizer.step()`\n",
        "6. 清空梯度：`optimizer.zero_grad()`为下次做准备\n"
      ]
    },
    {
      "cell_type": "code",
      "execution_count": 10,
      "id": "745af996",
      "metadata": {
        "id": "745af996"
      },
      "outputs": [],
      "source": [
        "def test(dataloader, model, loss_fn):\n",
        "    size = len(dataloader.dataset)\n",
        "    num_batches = len(dataloader)\n",
        "    model.eval()\n",
        "    test_loss, correct = 0, 0\n",
        "    with torch.no_grad():\n",
        "        for X, y in dataloader:\n",
        "            X, y = X.to(device), y.to(device)\n",
        "            pred = model(X)\n",
        "            test_loss += loss_fn(pred, y).item()\n",
        "            correct += (pred.argmax(1) == y).type(torch.float).sum().item()\n",
        "    test_loss /= num_batches\n",
        "    correct /= size\n",
        "    print(f\"Test Error: \\n Accuracy: {(100*correct):>0.1f}%, Avg loss: {test_loss:>8f} \\n\")"
      ]
    },
    {
      "cell_type": "markdown",
      "id": "0fd975ac",
      "metadata": {
        "id": "0fd975ac"
      },
      "source": [
        "**📊 评估过程解析**\n",
        "- `model.eval()`: 切换到评估模式\n",
        "- `torch.no_grad()`: 不计算梯度，节省内存\n",
        "- `pred.argmax(1)`: 找出概率最大的类别\n",
        "- 计算准确率和平均损失\n",
        "\n",
        "---\n",
        "\n",
        "## 🚀 第七步：开始训练！"
      ]
    },
    {
      "cell_type": "code",
      "execution_count": 11,
      "id": "e1909ea2",
      "metadata": {
        "colab": {
          "base_uri": "https://localhost:8080/"
        },
        "id": "e1909ea2",
        "outputId": "613eb160-3c6b-49f1-87ea-2bc3ff76dcd7"
      },
      "outputs": [
        {
          "output_type": "stream",
          "name": "stdout",
          "text": [
            "Epoch 1\n",
            "-------------------------------\n",
            "loss: 2.297701  [   64/60000]\n",
            "loss: 2.284227  [ 6464/60000]\n",
            "loss: 2.267975  [12864/60000]\n",
            "loss: 2.264516  [19264/60000]\n",
            "loss: 2.245345  [25664/60000]\n",
            "loss: 2.212929  [32064/60000]\n",
            "loss: 2.222292  [38464/60000]\n",
            "loss: 2.177181  [44864/60000]\n",
            "loss: 2.178102  [51264/60000]\n",
            "loss: 2.148859  [57664/60000]\n",
            "Test Error: \n",
            " Accuracy: 50.9%, Avg loss: 2.140877 \n",
            "\n",
            "Epoch 2\n",
            "-------------------------------\n",
            "loss: 2.153103  [   64/60000]\n",
            "loss: 2.132448  [ 6464/60000]\n",
            "loss: 2.073663  [12864/60000]\n",
            "loss: 2.093537  [19264/60000]\n",
            "loss: 2.026109  [25664/60000]\n",
            "loss: 1.974825  [32064/60000]\n",
            "loss: 2.001229  [38464/60000]\n",
            "loss: 1.910711  [44864/60000]\n",
            "loss: 1.924567  [51264/60000]\n",
            "loss: 1.848829  [57664/60000]\n",
            "Test Error: \n",
            " Accuracy: 53.1%, Avg loss: 1.844789 \n",
            "\n",
            "Epoch 3\n",
            "-------------------------------\n",
            "loss: 1.887542  [   64/60000]\n",
            "loss: 1.840781  [ 6464/60000]\n",
            "loss: 1.726389  [12864/60000]\n",
            "loss: 1.769647  [19264/60000]\n",
            "loss: 1.651845  [25664/60000]\n",
            "loss: 1.624814  [32064/60000]\n",
            "loss: 1.647633  [38464/60000]\n",
            "loss: 1.551168  [44864/60000]\n",
            "loss: 1.584106  [51264/60000]\n",
            "loss: 1.478981  [57664/60000]\n",
            "Test Error: \n",
            " Accuracy: 59.4%, Avg loss: 1.496266 \n",
            "\n",
            "Epoch 4\n",
            "-------------------------------\n",
            "loss: 1.574414  [   64/60000]\n",
            "loss: 1.528125  [ 6464/60000]\n",
            "loss: 1.386394  [12864/60000]\n",
            "loss: 1.451280  [19264/60000]\n",
            "loss: 1.339308  [25664/60000]\n",
            "loss: 1.349399  [32064/60000]\n",
            "loss: 1.363813  [38464/60000]\n",
            "loss: 1.291838  [44864/60000]\n",
            "loss: 1.327600  [51264/60000]\n",
            "loss: 1.230385  [57664/60000]\n",
            "Test Error: \n",
            " Accuracy: 62.7%, Avg loss: 1.252692 \n",
            "\n",
            "Epoch 5\n",
            "-------------------------------\n",
            "loss: 1.337771  [   64/60000]\n",
            "loss: 1.310271  [ 6464/60000]\n",
            "loss: 1.150789  [12864/60000]\n",
            "loss: 1.246662  [19264/60000]\n",
            "loss: 1.127223  [25664/60000]\n",
            "loss: 1.161743  [32064/60000]\n",
            "loss: 1.185159  [38464/60000]\n",
            "loss: 1.122655  [44864/60000]\n",
            "loss: 1.159937  [51264/60000]\n",
            "loss: 1.077803  [57664/60000]\n",
            "Test Error: \n",
            " Accuracy: 64.6%, Avg loss: 1.095451 \n",
            "\n",
            "Done!\n"
          ]
        }
      ],
      "source": [
        "epochs = 5\n",
        "for t in range(epochs):\n",
        "    print(f\"Epoch {t+1}\\n-------------------------------\")\n",
        "    train(train_dataloader, model, loss_fn, optimizer)\n",
        "    test(test_dataloader, model, loss_fn)\n",
        "print(\"Done!\")"
      ]
    },
    {
      "cell_type": "markdown",
      "id": "4f2c3615",
      "metadata": {
        "id": "4f2c3615"
      },
      "source": [
        "**⏰ Epoch是什么？**\n",
        "- 1个epoch = 把所有训练数据过一遍\n",
        "- 训练5个epoch，模型会越来越聪明！\n",
        "- 每个epoch后都测试一下，看看进步了多少\n",
        "\n",
        "---\n",
        "\n",
        "## 💾 第八步：保存和加载模型\n",
        "\n"
      ]
    },
    {
      "cell_type": "markdown",
      "source": [
        "### 保存模型"
      ],
      "metadata": {
        "id": "A81rUXz6nNO8"
      },
      "id": "A81rUXz6nNO8"
    },
    {
      "cell_type": "code",
      "execution_count": 12,
      "id": "b7e9f2a5",
      "metadata": {
        "colab": {
          "base_uri": "https://localhost:8080/"
        },
        "id": "b7e9f2a5",
        "outputId": "bd238c45-5e49-4c67-8d22-46979f2c182a"
      },
      "outputs": [
        {
          "output_type": "stream",
          "name": "stdout",
          "text": [
            "Saved PyTorch Model State to model.pth\n"
          ]
        }
      ],
      "source": [
        "torch.save(model.state_dict(), \"model.pth\")\n",
        "print(\"Saved PyTorch Model State to model.pth\")"
      ]
    },
    {
      "cell_type": "markdown",
      "id": "f276c50c",
      "metadata": {
        "id": "f276c50c"
      },
      "source": [
        "### 加载模型"
      ]
    },
    {
      "cell_type": "code",
      "execution_count": 13,
      "id": "cb3010f5",
      "metadata": {
        "colab": {
          "base_uri": "https://localhost:8080/"
        },
        "id": "cb3010f5",
        "outputId": "7b336f99-6342-4b4a-ff85-9b1a8453acc2"
      },
      "outputs": [
        {
          "output_type": "execute_result",
          "data": {
            "text/plain": [
              "<All keys matched successfully>"
            ]
          },
          "metadata": {},
          "execution_count": 13
        }
      ],
      "source": [
        "len(torch.load(\"model.pth\", weights_only=True))\n",
        "\n",
        "torch.load(\"model.pth\", weights_only=True)['linear_relu_stack.0.weight'].shape\n",
        "\n",
        "torch.load(\"model.pth\", weights_only=True)\n",
        "\n",
        "model = NeuralNetwork().to(device)\n",
        "model.load_state_dict(torch.load(\"model.pth\", weights_only=True))"
      ]
    },
    {
      "cell_type": "markdown",
      "id": "94903b05",
      "metadata": {
        "id": "94903b05"
      },
      "source": [
        "**💡 模型保存小知识**\n",
        "- `state_dict()`: 只保存模型参数，不保存结构\n",
        "- 加载时需要先创建相同的模型结构\n",
        "- `weights_only=True`: 只加载权重，更安全\n",
        "\n",
        "---\n",
        "\n",
        "## 🎉 第九步：模型预测"
      ]
    },
    {
      "cell_type": "code",
      "execution_count": 14,
      "id": "511ad359",
      "metadata": {
        "colab": {
          "base_uri": "https://localhost:8080/"
        },
        "id": "511ad359",
        "outputId": "7f5e8e9d-ba72-4a60-ea41-2b1ae996efd2"
      },
      "outputs": [
        {
          "output_type": "stream",
          "name": "stdout",
          "text": [
            "Predicted: \"Ankle boot\", Actual: \"Ankle boot\"\n"
          ]
        }
      ],
      "source": [
        "classes = [\n",
        "    \"T-shirt/top\",\n",
        "    \"Trouser\",\n",
        "    \"Pullover\",\n",
        "    \"Dress\",\n",
        "    \"Coat\",\n",
        "    \"Sandal\",\n",
        "    \"Shirt\",\n",
        "    \"Sneaker\",\n",
        "    \"Bag\",\n",
        "    \"Ankle boot\",\n",
        "]\n",
        "\n",
        "model.eval()\n",
        "x, y = test_data[0][0], test_data[0][1]\n",
        "with torch.no_grad():\n",
        "    x = x.to(device)\n",
        "    pred = model(x)\n",
        "    predicted, actual = classes[pred[0].argmax(0)], classes[y]\n",
        "    print(f'Predicted: \"{predicted}\", Actual: \"{actual}\"')"
      ]
    },
    {
      "cell_type": "markdown",
      "id": "446755d1",
      "metadata": {
        "id": "446755d1"
      },
      "source": [
        "**🔮 预测过程解析**\n",
        "- 定义10个服装类别的名称\n",
        "- 取一张测试图片进行预测\n",
        "- `argmax(0)`: 找出概率最高的类别索引\n",
        "- 输出预测结果和真实标签\n",
        "\n",
        "---\n",
        "\n",
        "## 🌟 总结\n",
        "\n",
        "这个教程带你完整体验了深度学习的全流程：\n",
        "1. **数据准备** - 下载和预处理图片\n",
        "2. **模型构建** - 设计神经网络结构\n",
        "3. **训练过程** - 让模型学习识别服装\n",
        "4. **模型评估** - 测试识别准确率\n",
        "5. **保存加载** - 持久化训练成果\n",
        "6. **实际预测** - 用训练好的模型识别新图片\n",
        "\n",
        "**🎯 小tips**\n",
        "- 第一次运行可能需要下载数据，耐心等待～\n",
        "- GPU训练会比CPU快很多倍\n",
        "- 可以尝试调整网络结构和参数，看看效果如何变化\n",
        "\n",
        "**💪 恭喜你！**\n",
        "你已经掌握了PyTorch深度学习的基础流程，可以尝试其他数据集和更复杂的模型了！"
      ]
    }
  ],
  "metadata": {
    "jupytext": {
      "cell_metadata_filter": "-all",
      "main_language": "python",
      "notebook_metadata_filter": "-all"
    },
    "colab": {
      "provenance": [],
      "toc_visible": true
    },
    "language_info": {
      "name": "python"
    },
    "kernelspec": {
      "name": "python3",
      "display_name": "Python 3"
    }
  },
  "nbformat": 4,
  "nbformat_minor": 5
}